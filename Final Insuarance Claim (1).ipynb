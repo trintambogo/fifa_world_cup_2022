{
 "cells": [
  {
   "cell_type": "markdown",
   "id": "60cca1b6",
   "metadata": {},
   "source": [
    "<b>Autoinland is an insuarance company in west africa.\n",
    "Their goal is to better improve customer experience and increase level of satisfaction when it comes to dealing with claims.\n",
    "To met this goal, they want to anticipate future demands in terms of claim request volume which will also help them manage their resources.\n",
    "To do this, we will help them by developing a predictive model that determines if a customer will submit a vehicle insuarance claim\n",
    "in the next three months.\n",
    "The solution will help streamline financial planning in autoinland.\n",
    "it will alsohelp them better serve their customers by understanding which customers are likely to submit a claim.<b/>\n"
   ]
  },
  {
   "cell_type": "markdown",
   "id": "2af3c8a5",
   "metadata": {},
   "source": [
    "## Import libraries"
   ]
  },
  {
   "cell_type": "code",
   "execution_count": 1,
   "id": "f3882713",
   "metadata": {},
   "outputs": [],
   "source": [
    "import pandas as pd\n",
    "import numpy as np\n",
    "import warnings\n",
    "warnings.filterwarnings('ignore')"
   ]
  },
  {
   "cell_type": "markdown",
   "id": "b5efdba3",
   "metadata": {},
   "source": [
    "## Import visualization libraries"
   ]
  },
  {
   "cell_type": "code",
   "execution_count": 2,
   "id": "d2de3e1a",
   "metadata": {},
   "outputs": [],
   "source": [
    "import seaborn as sns\n",
    "import matplotlib.pyplot as plt\n",
    "%matplotlib inline"
   ]
  },
  {
   "cell_type": "markdown",
   "id": "fe1fa72f",
   "metadata": {},
   "source": [
    "## Reading the data"
   ]
  },
  {
   "cell_type": "code",
   "execution_count": 3,
   "id": "45ca42c2",
   "metadata": {},
   "outputs": [],
   "source": [
    "train=pd.read_csv('Train_insuarance.csv')\n",
    "test=pd.read_csv('test_insuarance.csv')"
   ]
  },
  {
   "cell_type": "markdown",
   "id": "dc8ac506",
   "metadata": {},
   "source": [
    "## Combine train and test set"
   ]
  },
  {
   "cell_type": "code",
   "execution_count": 4,
   "id": "0fd7efc9",
   "metadata": {},
   "outputs": [],
   "source": [
    "ntrain = train.shape[0] # to be used to split train and test set from the combined dataframe\n",
    "\n",
    "df= pd.concat((train, test)).reset_index(drop=True)"
   ]
  },
  {
   "cell_type": "markdown",
   "id": "c4830df1",
   "metadata": {},
   "source": [
    "## getting a glimpse of the data"
   ]
  },
  {
   "cell_type": "code",
   "execution_count": 5,
   "id": "4b28c70e",
   "metadata": {},
   "outputs": [
    {
     "data": {
      "text/html": [
       "<div>\n",
       "<style scoped>\n",
       "    .dataframe tbody tr th:only-of-type {\n",
       "        vertical-align: middle;\n",
       "    }\n",
       "\n",
       "    .dataframe tbody tr th {\n",
       "        vertical-align: top;\n",
       "    }\n",
       "\n",
       "    .dataframe thead th {\n",
       "        text-align: right;\n",
       "    }\n",
       "</style>\n",
       "<table border=\"1\" class=\"dataframe\">\n",
       "  <thead>\n",
       "    <tr style=\"text-align: right;\">\n",
       "      <th></th>\n",
       "      <th>ID</th>\n",
       "      <th>Policy Start Date</th>\n",
       "      <th>Policy End Date</th>\n",
       "      <th>Gender</th>\n",
       "      <th>Age</th>\n",
       "      <th>First Transaction Date</th>\n",
       "      <th>No_Pol</th>\n",
       "      <th>Car_Category</th>\n",
       "      <th>Subject_Car_Colour</th>\n",
       "      <th>Subject_Car_Make</th>\n",
       "      <th>LGA_Name</th>\n",
       "      <th>State</th>\n",
       "      <th>ProductName</th>\n",
       "      <th>target</th>\n",
       "    </tr>\n",
       "  </thead>\n",
       "  <tbody>\n",
       "    <tr>\n",
       "      <th>0</th>\n",
       "      <td>ID_0040R73</td>\n",
       "      <td>2010-05-14</td>\n",
       "      <td>2011-05-13</td>\n",
       "      <td>Male</td>\n",
       "      <td>30</td>\n",
       "      <td>2010-05-14</td>\n",
       "      <td>1</td>\n",
       "      <td>Saloon</td>\n",
       "      <td>Black</td>\n",
       "      <td>TOYOTA</td>\n",
       "      <td>NaN</td>\n",
       "      <td>NaN</td>\n",
       "      <td>Car Classic</td>\n",
       "      <td>0.0</td>\n",
       "    </tr>\n",
       "    <tr>\n",
       "      <th>1</th>\n",
       "      <td>ID_0046BNK</td>\n",
       "      <td>2010-11-29</td>\n",
       "      <td>2011-11-28</td>\n",
       "      <td>Female</td>\n",
       "      <td>79</td>\n",
       "      <td>2010-11-29</td>\n",
       "      <td>1</td>\n",
       "      <td>JEEP</td>\n",
       "      <td>Grey</td>\n",
       "      <td>TOYOTA</td>\n",
       "      <td>NaN</td>\n",
       "      <td>NaN</td>\n",
       "      <td>Car Classic</td>\n",
       "      <td>1.0</td>\n",
       "    </tr>\n",
       "    <tr>\n",
       "      <th>2</th>\n",
       "      <td>ID_005QMC3</td>\n",
       "      <td>2010-03-21</td>\n",
       "      <td>2011-03-20</td>\n",
       "      <td>Male</td>\n",
       "      <td>43</td>\n",
       "      <td>2010-03-21</td>\n",
       "      <td>1</td>\n",
       "      <td>Saloon</td>\n",
       "      <td>Red</td>\n",
       "      <td>TOYOTA</td>\n",
       "      <td>NaN</td>\n",
       "      <td>NaN</td>\n",
       "      <td>Car Classic</td>\n",
       "      <td>0.0</td>\n",
       "    </tr>\n",
       "    <tr>\n",
       "      <th>3</th>\n",
       "      <td>ID_0079OHW</td>\n",
       "      <td>2010-08-21</td>\n",
       "      <td>2011-08-20</td>\n",
       "      <td>Male</td>\n",
       "      <td>2</td>\n",
       "      <td>2010-08-21</td>\n",
       "      <td>1</td>\n",
       "      <td>NaN</td>\n",
       "      <td>NaN</td>\n",
       "      <td>NaN</td>\n",
       "      <td>NaN</td>\n",
       "      <td>NaN</td>\n",
       "      <td>CarSafe</td>\n",
       "      <td>0.0</td>\n",
       "    </tr>\n",
       "    <tr>\n",
       "      <th>4</th>\n",
       "      <td>ID_00BRP63</td>\n",
       "      <td>2010-08-29</td>\n",
       "      <td>2010-12-31</td>\n",
       "      <td>Entity</td>\n",
       "      <td>20</td>\n",
       "      <td>2010-08-29</td>\n",
       "      <td>3</td>\n",
       "      <td>NaN</td>\n",
       "      <td>NaN</td>\n",
       "      <td>NaN</td>\n",
       "      <td>Lagos</td>\n",
       "      <td>Lagos</td>\n",
       "      <td>Muuve</td>\n",
       "      <td>1.0</td>\n",
       "    </tr>\n",
       "  </tbody>\n",
       "</table>\n",
       "</div>"
      ],
      "text/plain": [
       "           ID Policy Start Date Policy End Date  Gender  Age  \\\n",
       "0  ID_0040R73        2010-05-14      2011-05-13    Male   30   \n",
       "1  ID_0046BNK        2010-11-29      2011-11-28  Female   79   \n",
       "2  ID_005QMC3        2010-03-21      2011-03-20    Male   43   \n",
       "3  ID_0079OHW        2010-08-21      2011-08-20    Male    2   \n",
       "4  ID_00BRP63        2010-08-29      2010-12-31  Entity   20   \n",
       "\n",
       "  First Transaction Date  No_Pol Car_Category Subject_Car_Colour  \\\n",
       "0             2010-05-14       1       Saloon              Black   \n",
       "1             2010-11-29       1         JEEP               Grey   \n",
       "2             2010-03-21       1       Saloon                Red   \n",
       "3             2010-08-21       1          NaN                NaN   \n",
       "4             2010-08-29       3          NaN                NaN   \n",
       "\n",
       "  Subject_Car_Make LGA_Name  State  ProductName  target  \n",
       "0           TOYOTA      NaN    NaN  Car Classic     0.0  \n",
       "1           TOYOTA      NaN    NaN  Car Classic     1.0  \n",
       "2           TOYOTA      NaN    NaN  Car Classic     0.0  \n",
       "3              NaN      NaN    NaN      CarSafe     0.0  \n",
       "4              NaN    Lagos  Lagos        Muuve     1.0  "
      ]
     },
     "execution_count": 5,
     "metadata": {},
     "output_type": "execute_result"
    }
   ],
   "source": [
    "df.head()"
   ]
  },
  {
   "cell_type": "markdown",
   "id": "b43c4e8a",
   "metadata": {},
   "source": [
    "## more information on the data\n",
    "## the data shows number of rows and columns\n",
    "## there is presence of missing values"
   ]
  },
  {
   "cell_type": "code",
   "execution_count": 6,
   "id": "da10dea7",
   "metadata": {},
   "outputs": [
    {
     "name": "stdout",
     "output_type": "stream",
     "text": [
      "<class 'pandas.core.frame.DataFrame'>\n",
      "RangeIndex: 13281 entries, 0 to 13280\n",
      "Data columns (total 14 columns):\n",
      " #   Column                  Non-Null Count  Dtype  \n",
      "---  ------                  --------------  -----  \n",
      " 0   ID                      13281 non-null  object \n",
      " 1   Policy Start Date       13281 non-null  object \n",
      " 2   Policy End Date         13281 non-null  object \n",
      " 3   Gender                  12881 non-null  object \n",
      " 4   Age                     13281 non-null  int64  \n",
      " 5   First Transaction Date  13281 non-null  object \n",
      " 6   No_Pol                  13281 non-null  int64  \n",
      " 7   Car_Category            9171 non-null   object \n",
      " 8   Subject_Car_Colour      5622 non-null   object \n",
      " 9   Subject_Car_Make        10557 non-null  object \n",
      " 10  LGA_Name                6149 non-null   object \n",
      " 11  State                   6137 non-null   object \n",
      " 12  ProductName             13281 non-null  object \n",
      " 13  target                  12079 non-null  float64\n",
      "dtypes: float64(1), int64(2), object(11)\n",
      "memory usage: 1.4+ MB\n"
     ]
    }
   ],
   "source": [
    "\n",
    "df.info()"
   ]
  },
  {
   "cell_type": "markdown",
   "id": "17ab247c",
   "metadata": {},
   "source": [
    "## definations of the columns in the data"
   ]
  },
  {
   "cell_type": "code",
   "execution_count": 7,
   "id": "0c3625f8",
   "metadata": {},
   "outputs": [
    {
     "data": {
      "text/html": [
       "<div>\n",
       "<style scoped>\n",
       "    .dataframe tbody tr th:only-of-type {\n",
       "        vertical-align: middle;\n",
       "    }\n",
       "\n",
       "    .dataframe tbody tr th {\n",
       "        vertical-align: top;\n",
       "    }\n",
       "\n",
       "    .dataframe thead th {\n",
       "        text-align: right;\n",
       "    }\n",
       "</style>\n",
       "<table border=\"1\" class=\"dataframe\">\n",
       "  <thead>\n",
       "    <tr style=\"text-align: right;\">\n",
       "      <th></th>\n",
       "      <th>ID</th>\n",
       "      <th>Unique ID for the customer</th>\n",
       "    </tr>\n",
       "  </thead>\n",
       "  <tbody>\n",
       "    <tr>\n",
       "      <th>0</th>\n",
       "      <td>Policy Start Date</td>\n",
       "      <td>Date policy started</td>\n",
       "    </tr>\n",
       "    <tr>\n",
       "      <th>1</th>\n",
       "      <td>Policy End Date</td>\n",
       "      <td>Date policy ended</td>\n",
       "    </tr>\n",
       "    <tr>\n",
       "      <th>2</th>\n",
       "      <td>Gender</td>\n",
       "      <td>Gender of the customer</td>\n",
       "    </tr>\n",
       "    <tr>\n",
       "      <th>3</th>\n",
       "      <td>Age</td>\n",
       "      <td>Age of the customer</td>\n",
       "    </tr>\n",
       "    <tr>\n",
       "      <th>4</th>\n",
       "      <td>ProductName</td>\n",
       "      <td>Name of Insurance policy</td>\n",
       "    </tr>\n",
       "    <tr>\n",
       "      <th>5</th>\n",
       "      <td>First Transaction Date</td>\n",
       "      <td>First date payment was made</td>\n",
       "    </tr>\n",
       "    <tr>\n",
       "      <th>6</th>\n",
       "      <td>No_Pol</td>\n",
       "      <td>Number of policies the customer has</td>\n",
       "    </tr>\n",
       "    <tr>\n",
       "      <th>7</th>\n",
       "      <td>Car_Category</td>\n",
       "      <td>Type of car</td>\n",
       "    </tr>\n",
       "    <tr>\n",
       "      <th>8</th>\n",
       "      <td>Subject_Car_Colour</td>\n",
       "      <td>Car colour</td>\n",
       "    </tr>\n",
       "    <tr>\n",
       "      <th>9</th>\n",
       "      <td>Subject_Car_Make</td>\n",
       "      <td>Car make</td>\n",
       "    </tr>\n",
       "    <tr>\n",
       "      <th>10</th>\n",
       "      <td>LGA_Name</td>\n",
       "      <td>City where policy was purchased</td>\n",
       "    </tr>\n",
       "    <tr>\n",
       "      <th>11</th>\n",
       "      <td>State</td>\n",
       "      <td>State where policy was purchased</td>\n",
       "    </tr>\n",
       "    <tr>\n",
       "      <th>12</th>\n",
       "      <td>No_of_claims_3_mon_period</td>\n",
       "      <td>Wether the customer claimed within a 3 month p...</td>\n",
       "    </tr>\n",
       "  </tbody>\n",
       "</table>\n",
       "</div>"
      ],
      "text/plain": [
       "                           ID  \\\n",
       "0           Policy Start Date   \n",
       "1             Policy End Date   \n",
       "2                      Gender   \n",
       "3                         Age   \n",
       "4                 ProductName   \n",
       "5      First Transaction Date   \n",
       "6                      No_Pol   \n",
       "7                Car_Category   \n",
       "8          Subject_Car_Colour   \n",
       "9            Subject_Car_Make   \n",
       "10                   LGA_Name   \n",
       "11                      State   \n",
       "12  No_of_claims_3_mon_period   \n",
       "\n",
       "                           Unique ID for the customer  \n",
       "0                                 Date policy started  \n",
       "1                                   Date policy ended  \n",
       "2                              Gender of the customer  \n",
       "3                                 Age of the customer  \n",
       "4                            Name of Insurance policy  \n",
       "5                         First date payment was made  \n",
       "6                 Number of policies the customer has  \n",
       "7                                         Type of car  \n",
       "8                                          Car colour  \n",
       "9                                            Car make  \n",
       "10                    City where policy was purchased  \n",
       "11                   State where policy was purchased  \n",
       "12  Wether the customer claimed within a 3 month p...  "
      ]
     },
     "execution_count": 7,
     "metadata": {},
     "output_type": "execute_result"
    }
   ],
   "source": [
    "pd.read_csv('VariableDefinitions.csv')"
   ]
  },
  {
   "cell_type": "markdown",
   "id": "df99e217",
   "metadata": {},
   "source": [
    "## number of null values"
   ]
  },
  {
   "cell_type": "code",
   "execution_count": 8,
   "id": "e988ef58",
   "metadata": {},
   "outputs": [
    {
     "data": {
      "text/plain": [
       "ID                           0\n",
       "Policy Start Date            0\n",
       "Policy End Date              0\n",
       "Gender                     400\n",
       "Age                          0\n",
       "First Transaction Date       0\n",
       "No_Pol                       0\n",
       "Car_Category              4110\n",
       "Subject_Car_Colour        7659\n",
       "Subject_Car_Make          2724\n",
       "LGA_Name                  7132\n",
       "State                     7144\n",
       "ProductName                  0\n",
       "target                    1202\n",
       "dtype: int64"
      ]
     },
     "execution_count": 8,
     "metadata": {},
     "output_type": "execute_result"
    }
   ],
   "source": [
    "df.isnull().sum()"
   ]
  },
  {
   "cell_type": "markdown",
   "id": "1ffa8426",
   "metadata": {},
   "source": [
    "## percentage of null values "
   ]
  },
  {
   "cell_type": "code",
   "execution_count": 9,
   "id": "a21a955b",
   "metadata": {},
   "outputs": [
    {
     "data": {
      "text/plain": [
       "ID                         0.000000\n",
       "Policy Start Date          0.000000\n",
       "Policy End Date            0.000000\n",
       "Gender                     3.011821\n",
       "Age                        0.000000\n",
       "First Transaction Date     0.000000\n",
       "No_Pol                     0.000000\n",
       "Car_Category              30.946465\n",
       "Subject_Car_Colour        57.668850\n",
       "Subject_Car_Make          20.510504\n",
       "LGA_Name                  53.700776\n",
       "State                     53.791130\n",
       "ProductName                0.000000\n",
       "target                     9.050523\n",
       "dtype: float64"
      ]
     },
     "execution_count": 9,
     "metadata": {},
     "output_type": "execute_result"
    }
   ],
   "source": [
    "100*(df.isnull().sum()/len(df))"
   ]
  },
  {
   "cell_type": "markdown",
   "id": "ce35103b",
   "metadata": {},
   "source": [
    "## renaming black in car make to avoid confusion"
   ]
  },
  {
   "cell_type": "code",
   "execution_count": 10,
   "id": "67995f1c",
   "metadata": {},
   "outputs": [],
   "source": [
    "def car(x):\n",
    "    if x=='Black':\n",
    "        return 'Black_1'\n",
    "    else:\n",
    "        return x"
   ]
  },
  {
   "cell_type": "code",
   "execution_count": 11,
   "id": "7f839a4f",
   "metadata": {},
   "outputs": [],
   "source": [
    "df['Subject_Car_Make']=df['Subject_Car_Make'].apply(car)"
   ]
  },
  {
   "cell_type": "code",
   "execution_count": 12,
   "id": "53629864",
   "metadata": {},
   "outputs": [
    {
     "data": {
      "text/html": [
       "<div>\n",
       "<style scoped>\n",
       "    .dataframe tbody tr th:only-of-type {\n",
       "        vertical-align: middle;\n",
       "    }\n",
       "\n",
       "    .dataframe tbody tr th {\n",
       "        vertical-align: top;\n",
       "    }\n",
       "\n",
       "    .dataframe thead th {\n",
       "        text-align: right;\n",
       "    }\n",
       "</style>\n",
       "<table border=\"1\" class=\"dataframe\">\n",
       "  <thead>\n",
       "    <tr style=\"text-align: right;\">\n",
       "      <th></th>\n",
       "      <th>ID</th>\n",
       "      <th>Policy Start Date</th>\n",
       "      <th>Policy End Date</th>\n",
       "      <th>Gender</th>\n",
       "      <th>Age</th>\n",
       "      <th>First Transaction Date</th>\n",
       "      <th>No_Pol</th>\n",
       "      <th>Car_Category</th>\n",
       "      <th>Subject_Car_Colour</th>\n",
       "      <th>Subject_Car_Make</th>\n",
       "      <th>LGA_Name</th>\n",
       "      <th>State</th>\n",
       "      <th>ProductName</th>\n",
       "      <th>target</th>\n",
       "    </tr>\n",
       "  </thead>\n",
       "  <tbody>\n",
       "    <tr>\n",
       "      <th>6015</th>\n",
       "      <td>ID_I1S08AV</td>\n",
       "      <td>2010-01-05</td>\n",
       "      <td>2011-01-04</td>\n",
       "      <td>Male</td>\n",
       "      <td>36</td>\n",
       "      <td>2010-01-05</td>\n",
       "      <td>1</td>\n",
       "      <td>Saloon</td>\n",
       "      <td>NaN</td>\n",
       "      <td>Black_1</td>\n",
       "      <td>Somolu</td>\n",
       "      <td>Lagos</td>\n",
       "      <td>Car Classic</td>\n",
       "      <td>1.0</td>\n",
       "    </tr>\n",
       "    <tr>\n",
       "      <th>9732</th>\n",
       "      <td>ID_T4RS1MN</td>\n",
       "      <td>2010-01-05</td>\n",
       "      <td>2011-01-04</td>\n",
       "      <td>Male</td>\n",
       "      <td>36</td>\n",
       "      <td>2010-01-05</td>\n",
       "      <td>1</td>\n",
       "      <td>Saloon</td>\n",
       "      <td>NaN</td>\n",
       "      <td>Black_1</td>\n",
       "      <td>Somolu</td>\n",
       "      <td>Lagos</td>\n",
       "      <td>Car Classic</td>\n",
       "      <td>0.0</td>\n",
       "    </tr>\n",
       "  </tbody>\n",
       "</table>\n",
       "</div>"
      ],
      "text/plain": [
       "              ID Policy Start Date Policy End Date Gender  Age  \\\n",
       "6015  ID_I1S08AV        2010-01-05      2011-01-04   Male   36   \n",
       "9732  ID_T4RS1MN        2010-01-05      2011-01-04   Male   36   \n",
       "\n",
       "     First Transaction Date  No_Pol Car_Category Subject_Car_Colour  \\\n",
       "6015             2010-01-05       1       Saloon                NaN   \n",
       "9732             2010-01-05       1       Saloon                NaN   \n",
       "\n",
       "     Subject_Car_Make LGA_Name  State  ProductName  target  \n",
       "6015          Black_1   Somolu  Lagos  Car Classic     1.0  \n",
       "9732          Black_1   Somolu  Lagos  Car Classic     0.0  "
      ]
     },
     "execution_count": 12,
     "metadata": {},
     "output_type": "execute_result"
    }
   ],
   "source": [
    "df[df['Subject_Car_Make']=='Black_1']"
   ]
  },
  {
   "cell_type": "markdown",
   "id": "3b2084bd",
   "metadata": {},
   "source": [
    "## cleaning the car category column"
   ]
  },
  {
   "cell_type": "code",
   "execution_count": 13,
   "id": "ac3be3a3",
   "metadata": {},
   "outputs": [
    {
     "data": {
      "text/plain": [
       "4110"
      ]
     },
     "execution_count": 13,
     "metadata": {},
     "output_type": "execute_result"
    }
   ],
   "source": [
    "df['Car_Category'].isnull().sum()"
   ]
  },
  {
   "cell_type": "code",
   "execution_count": 14,
   "id": "0eabc3be",
   "metadata": {},
   "outputs": [
    {
     "data": {
      "text/plain": [
       "JEEP          72\n",
       "Saloon        68\n",
       "Motorcycle     6\n",
       "Bus            6\n",
       "Truck          6\n",
       "Name: Car_Category, dtype: int64"
      ]
     },
     "execution_count": 14,
     "metadata": {},
     "output_type": "execute_result"
    }
   ],
   "source": [
    "df[df['Gender'].isnull()]['Car_Category'].value_counts()"
   ]
  },
  {
   "cell_type": "markdown",
   "id": "f1836e90",
   "metadata": {},
   "source": [
    "## most null values in gender had a jeep"
   ]
  },
  {
   "cell_type": "code",
   "execution_count": 15,
   "id": "18c54ef1",
   "metadata": {},
   "outputs": [],
   "source": [
    "def category(dataframe):\n",
    "    Gender=dataframe['Gender']\n",
    "    Car_Category=dataframe['Car_Category']\n",
    "    for i in dataframe.index:\n",
    "        if pd.isnull(Gender[i]):\n",
    "            Car_Category[i] = 'JEEP'\n",
    "        else:\n",
    "            Car_Category[i] = Car_Category[i]"
   ]
  },
  {
   "cell_type": "code",
   "execution_count": 16,
   "id": "e0e39c15",
   "metadata": {},
   "outputs": [],
   "source": [
    "df=df[['ID', 'Policy Start Date', 'Policy End Date', 'Gender', 'Age',\n",
    "       'First Transaction Date', 'No_Pol', 'Car_Category',\n",
    "       'Subject_Car_Colour', 'Subject_Car_Make', 'LGA_Name', 'State',\n",
    "       'ProductName', 'target']]\n",
    "category(df)"
   ]
  },
  {
   "cell_type": "code",
   "execution_count": 17,
   "id": "fc86f116",
   "metadata": {},
   "outputs": [
    {
     "data": {
      "text/plain": [
       "3868"
      ]
     },
     "execution_count": 17,
     "metadata": {},
     "output_type": "execute_result"
    }
   ],
   "source": [
    "df['Car_Category'].isnull().sum()"
   ]
  },
  {
   "cell_type": "code",
   "execution_count": 18,
   "id": "b80d32f0",
   "metadata": {},
   "outputs": [
    {
     "data": {
      "text/plain": [
       "Car_Category  Subject_Car_Colour  Subject_Car_Make\n",
       "Saloon        Black               TOYOTA              572\n",
       "              Silver              TOYOTA              320\n",
       "JEEP          Black               TOYOTA              315\n",
       "Saloon        Grey                TOYOTA              283\n",
       "              Blue                TOYOTA              204\n",
       "dtype: int64"
      ]
     },
     "execution_count": 18,
     "metadata": {},
     "output_type": "execute_result"
    }
   ],
   "source": [
    "df[['Car_Category','Subject_Car_Colour','Subject_Car_Make']].value_counts().head(5)"
   ]
  },
  {
   "cell_type": "code",
   "execution_count": 19,
   "id": "cb7aaf87",
   "metadata": {},
   "outputs": [],
   "source": [
    "def category(dataframe):\n",
    "    Car_Category=dataframe['Car_Category']\n",
    "    Subject_Car_Colour=dataframe['Subject_Car_Colour']\n",
    "    Subject_Car_Make=dataframe['Subject_Car_Make']\n",
    "    for i in dataframe.index:\n",
    "        if pd.isnull(Car_Category[i]) and Subject_Car_Colour[i] == 'Black' and Subject_Car_Make[i] == 'TOYOTA':\n",
    "            Car_Category[i] = 'Saloon'\n",
    "        elif pd.isnull(Car_Category[i]) and Subject_Car_Colour[i] == 'Silver' and Subject_Car_Make[i] == 'TOYOTA':\n",
    "            Car_Category[i] = 'Saloon'\n",
    "        elif pd.isnull(Car_Category[i]) and Subject_Car_Colour[i] == 'Grey' and Subject_Car_Make[i] == 'TOYOTA':\n",
    "            Car_Category[i] = 'Saloon'\n",
    "        elif pd.isnull(Car_Category[i]) and Subject_Car_Colour[i] == 'Blue' and Subject_Car_Make[i] == 'TOYOTA':\n",
    "            Car_Category[i] = 'Saloon'\n",
    "            \n",
    "        else:\n",
    "            Car_Category[i] = Car_Category[i]"
   ]
  },
  {
   "cell_type": "code",
   "execution_count": 20,
   "id": "13169613",
   "metadata": {},
   "outputs": [],
   "source": [
    "df=df[['ID', 'Policy Start Date', 'Policy End Date', 'Gender', 'Age',\n",
    "       'First Transaction Date', 'No_Pol', 'Car_Category',\n",
    "       'Subject_Car_Colour', 'Subject_Car_Make', 'LGA_Name', 'State',\n",
    "       'ProductName', 'target']]\n",
    "category(df)"
   ]
  },
  {
   "cell_type": "code",
   "execution_count": 21,
   "id": "47ec5f31",
   "metadata": {},
   "outputs": [
    {
     "data": {
      "text/plain": [
       "3764"
      ]
     },
     "execution_count": 21,
     "metadata": {},
     "output_type": "execute_result"
    }
   ],
   "source": [
    "df['Car_Category'].isnull().sum()"
   ]
  },
  {
   "cell_type": "code",
   "execution_count": 22,
   "id": "b075cf68",
   "metadata": {},
   "outputs": [
    {
     "data": {
      "text/plain": [
       "ProductName       LGA_Name         State  Car_Category\n",
       "Car Classic       Victoria Island  Lagos  JEEP            238\n",
       "Customized Motor  Victoria Island  Lagos  JEEP            168\n",
       "Car Classic       Ikeja            Lagos  Saloon          160\n",
       "                  Victoria Island  Lagos  Saloon          155\n",
       "                  Surulere         Lagos  Saloon          116\n",
       "dtype: int64"
      ]
     },
     "execution_count": 22,
     "metadata": {},
     "output_type": "execute_result"
    }
   ],
   "source": [
    "df[['ProductName','LGA_Name', 'State','Car_Category']].value_counts().head()"
   ]
  },
  {
   "cell_type": "code",
   "execution_count": 23,
   "id": "588a93b4",
   "metadata": {},
   "outputs": [],
   "source": [
    "def category(dataframe):\n",
    "    Car_Category=dataframe['Car_Category']\n",
    "    LGA=dataframe['LGA_Name']\n",
    "    State=dataframe['State']\n",
    "    for i in dataframe.index:\n",
    "        if pd.isnull(Car_Category[i]) and LGA[i] == 'Victoria Island' and State[i] == 'Lagos':\n",
    "            Car_Category[i] = 'JEEP' \n",
    "        elif pd.isnull(Car_Category[i]) and LGA[i] == 'Ikeja' and State[i] == 'Lagos':\n",
    "            Car_Category[i] = 'Saloon' \n",
    "        else:\n",
    "            Car_Category[i] = Car_Category[i]"
   ]
  },
  {
   "cell_type": "code",
   "execution_count": 24,
   "id": "2b65c483",
   "metadata": {},
   "outputs": [],
   "source": [
    "df=df[['ID', 'Policy Start Date', 'Policy End Date', 'Gender', 'Age',\n",
    "       'First Transaction Date', 'No_Pol', 'Car_Category',\n",
    "       'Subject_Car_Colour', 'Subject_Car_Make', 'LGA_Name', 'State',\n",
    "       'ProductName', 'target']]\n",
    "category(df)"
   ]
  },
  {
   "cell_type": "code",
   "execution_count": 25,
   "id": "caf9c937",
   "metadata": {},
   "outputs": [
    {
     "data": {
      "text/plain": [
       "3227"
      ]
     },
     "execution_count": 25,
     "metadata": {},
     "output_type": "execute_result"
    }
   ],
   "source": [
    "df['Car_Category'].isnull().sum()"
   ]
  },
  {
   "cell_type": "code",
   "execution_count": 26,
   "id": "ca084405",
   "metadata": {},
   "outputs": [
    {
     "data": {
      "text/plain": [
       "Car_Category  Subject_Car_Make  ProductName\n",
       "Saloon        TOYOTA            Car Classic    2386\n",
       "                                CarSafe        1364\n",
       "JEEP          TOYOTA            Car Classic     780\n",
       "Saloon        Honda             CarSafe         407\n",
       "                                Car Classic     334\n",
       "dtype: int64"
      ]
     },
     "execution_count": 26,
     "metadata": {},
     "output_type": "execute_result"
    }
   ],
   "source": [
    "df[['Car_Category','Subject_Car_Make','ProductName']].value_counts().head(5)"
   ]
  },
  {
   "cell_type": "code",
   "execution_count": 27,
   "id": "c99f74ce",
   "metadata": {},
   "outputs": [],
   "source": [
    "def category(dataframe):\n",
    "    Car_Category=dataframe['Car_Category']\n",
    "    Subject_Car=dataframe['Subject_Car_Make']\n",
    "    Product=dataframe['ProductName']\n",
    "    for i in dataframe.index:\n",
    "        if pd.isnull(Car_Category[i]) and Subject_Car[i]=='TOYOTA' and Product[i]=='Car Classic':\n",
    "            Car_Category[i] = 'Saloon' \n",
    "        elif pd.isnull(Car_Category[i]) and Subject_Car[i]=='Lexus' and Product[i]=='Car Classic':\n",
    "            Car_Category[i] = 'JEEP' \n",
    "        else:\n",
    "            Car_Category[i] = Car_Category[i]"
   ]
  },
  {
   "cell_type": "code",
   "execution_count": 28,
   "id": "b40d9027",
   "metadata": {},
   "outputs": [],
   "source": [
    "df=df[['ID', 'Policy Start Date', 'Policy End Date', 'Gender', 'Age',\n",
    "       'First Transaction Date', 'No_Pol', 'Car_Category',\n",
    "       'Subject_Car_Colour', 'Subject_Car_Make', 'LGA_Name', 'State',\n",
    "       'ProductName', 'target']]\n",
    "category(df)"
   ]
  },
  {
   "cell_type": "code",
   "execution_count": 29,
   "id": "be2c1f3c",
   "metadata": {},
   "outputs": [
    {
     "data": {
      "text/plain": [
       "2995"
      ]
     },
     "execution_count": 29,
     "metadata": {},
     "output_type": "execute_result"
    }
   ],
   "source": [
    "df['Car_Category'].isnull().sum()"
   ]
  },
  {
   "cell_type": "code",
   "execution_count": 30,
   "id": "c9b4e86d",
   "metadata": {},
   "outputs": [
    {
     "data": {
      "text/plain": [
       "Car_Category  ProductName     \n",
       "Saloon        Car Classic         3695\n",
       "              CarSafe             2742\n",
       "JEEP          Car Classic         2040\n",
       "              Customized Motor     371\n",
       "Saloon        Car Plus             276\n",
       "dtype: int64"
      ]
     },
     "execution_count": 30,
     "metadata": {},
     "output_type": "execute_result"
    }
   ],
   "source": [
    "df[['Car_Category','ProductName']].value_counts().head(5)"
   ]
  },
  {
   "cell_type": "code",
   "execution_count": 31,
   "id": "8eb12ecd",
   "metadata": {},
   "outputs": [],
   "source": [
    "def category(dataframe):\n",
    "    Car_Category=dataframe['Car_Category']\n",
    "    Product=dataframe['ProductName']\n",
    "    for i in dataframe.index:\n",
    "        if pd.isnull(Car_Category[i]) and (Product[i]=='Car Classic' or Product[i]=='CarSafe' or Product[i]=='Car Plus') :\n",
    "            Car_Category[i] = 'Saloon' \n",
    "        elif pd.isnull(Car_Category[i]) and Product[i]=='Customized Motor':\n",
    "            Car_Category[i] = 'JEEP' \n",
    "        else:\n",
    "            Car_Category[i] = Car_Category[i]"
   ]
  },
  {
   "cell_type": "code",
   "execution_count": 32,
   "id": "c8c8d579",
   "metadata": {},
   "outputs": [],
   "source": [
    "df=df[['ID', 'Policy Start Date', 'Policy End Date', 'Gender', 'Age',\n",
    "       'First Transaction Date', 'No_Pol', 'Car_Category',\n",
    "       'Subject_Car_Colour', 'Subject_Car_Make', 'LGA_Name', 'State',\n",
    "       'ProductName', 'target']]\n",
    "category(df)"
   ]
  },
  {
   "cell_type": "code",
   "execution_count": 33,
   "id": "cbd1a0e1",
   "metadata": {},
   "outputs": [
    {
     "data": {
      "text/plain": [
       "259"
      ]
     },
     "execution_count": 33,
     "metadata": {},
     "output_type": "execute_result"
    }
   ],
   "source": [
    "df['Car_Category'].isnull().sum()"
   ]
  },
  {
   "cell_type": "code",
   "execution_count": 34,
   "id": "d177479e",
   "metadata": {},
   "outputs": [],
   "source": [
    "def category(dataframe):\n",
    "    Car_Category=dataframe['Car_Category']\n",
    "    Subject_Car=dataframe['Subject_Car_Make']\n",
    "    for i in dataframe.index:\n",
    "        if pd.isnull(Car_Category[i]) and Subject_Car[i]=='Iveco':\n",
    "            Car_Category[i] = 'Truck' \n",
    "        elif pd.isnull(Car_Category[i]) and Subject_Car[i]=='Honda':\n",
    "            Car_Category[i] = 'Saloon'\n",
    "        elif pd.isnull(Car_Category[i]) and Subject_Car[i]=='DAF':\n",
    "            Car_Category[i] = 'Truck'\n",
    "        elif pd.isnull(Car_Category[i]) and Subject_Car[i]=='TOYOTA':\n",
    "            Car_Category[i] = 'Saloon'\n",
    "        elif pd.isnull(Car_Category[i]) and Subject_Car[i]=='Mitsubishi':\n",
    "            Car_Category[i] = 'Pickup'\n",
    "        elif pd.isnull(Car_Category[i]) and Subject_Car[i]=='Scania':\n",
    "            Car_Category[i] = 'JEEP'\n",
    "        elif pd.isnull(Car_Category[i]) and Subject_Car[i]=='Hyundai':\n",
    "            Car_Category[i] = 'Bus'\n",
    "        elif pd.isnull(Car_Category[i]) and Subject_Car[i]=='Ford':\n",
    "            Car_Category[i] = 'Pickup'\n",
    "        elif pd.isnull(Car_Category[i]) and Subject_Car[i]=='Isuzu':\n",
    "            Car_Category[i] = 'Pickup'\n",
    "        else:\n",
    "            Car_Category[i] = Car_Category[i]"
   ]
  },
  {
   "cell_type": "code",
   "execution_count": 35,
   "id": "69bb101a",
   "metadata": {},
   "outputs": [],
   "source": [
    "df=df[['ID', 'Policy Start Date', 'Policy End Date', 'Gender', 'Age',\n",
    "       'First Transaction Date', 'No_Pol', 'Car_Category',\n",
    "       'Subject_Car_Colour', 'Subject_Car_Make', 'LGA_Name', 'State',\n",
    "       'ProductName', 'target']]\n",
    "category(df)"
   ]
  },
  {
   "cell_type": "code",
   "execution_count": 36,
   "id": "dfab7dcc",
   "metadata": {},
   "outputs": [
    {
     "data": {
      "text/plain": [
       "148"
      ]
     },
     "execution_count": 36,
     "metadata": {},
     "output_type": "execute_result"
    }
   ],
   "source": [
    "df['Car_Category'].isnull().sum()"
   ]
  },
  {
   "cell_type": "code",
   "execution_count": 37,
   "id": "ffb77255",
   "metadata": {},
   "outputs": [],
   "source": [
    "df['Car_Category']=df['Car_Category'].fillna('Saloon')"
   ]
  },
  {
   "cell_type": "code",
   "execution_count": 38,
   "id": "ecabc55a",
   "metadata": {},
   "outputs": [
    {
     "data": {
      "text/plain": [
       "0"
      ]
     },
     "execution_count": 38,
     "metadata": {},
     "output_type": "execute_result"
    }
   ],
   "source": [
    "df['Car_Category'].isnull().sum()"
   ]
  },
  {
   "cell_type": "markdown",
   "id": "7527f4f0",
   "metadata": {},
   "source": [
    "## filling missing gender values with the mode"
   ]
  },
  {
   "cell_type": "code",
   "execution_count": 39,
   "id": "1a904c2c",
   "metadata": {},
   "outputs": [
    {
     "data": {
      "text/plain": [
       "array(['Male', 'Female', 'Entity', 'Joint Gender', nan, 'NO GENDER',\n",
       "       'NOT STATED', 'SEX'], dtype=object)"
      ]
     },
     "execution_count": 39,
     "metadata": {},
     "output_type": "execute_result"
    }
   ],
   "source": [
    "df['Gender'].unique()"
   ]
  },
  {
   "cell_type": "code",
   "execution_count": 40,
   "id": "6926bfcc",
   "metadata": {},
   "outputs": [
    {
     "data": {
      "text/plain": [
       "Male            8356\n",
       "Female          3679\n",
       "Entity           300\n",
       "Joint Gender     238\n",
       "NOT STATED       190\n",
       "Name: Gender, dtype: int64"
      ]
     },
     "execution_count": 40,
     "metadata": {},
     "output_type": "execute_result"
    }
   ],
   "source": [
    "df['Gender'].value_counts().head(5)"
   ]
  },
  {
   "cell_type": "code",
   "execution_count": 41,
   "id": "52f96a2e",
   "metadata": {},
   "outputs": [],
   "source": [
    "df['Gender']=df['Gender'].fillna('Male')"
   ]
  },
  {
   "cell_type": "code",
   "execution_count": 42,
   "id": "faf5227a",
   "metadata": {},
   "outputs": [
    {
     "data": {
      "text/plain": [
       "Male      8756\n",
       "Female    3679\n",
       "Other      846\n",
       "Name: Gender, dtype: int64"
      ]
     },
     "execution_count": 42,
     "metadata": {},
     "output_type": "execute_result"
    }
   ],
   "source": [
    "mapper = {'Entity':'Other', 'Joint Gender':'Other', 'NOT STATED':'Other', 'NO GENDER': 'Other', 'SEX':\"Other\"}\n",
    "df['Gender'] = df['Gender'].replace(mapper)\n",
    "\n",
    "# Confirm mappings\n",
    "df['Gender'].value_counts()"
   ]
  },
  {
   "cell_type": "code",
   "execution_count": 43,
   "id": "7acb0fa6",
   "metadata": {},
   "outputs": [
    {
     "data": {
      "text/plain": [
       "0"
      ]
     },
     "execution_count": 43,
     "metadata": {},
     "output_type": "execute_result"
    }
   ],
   "source": [
    "df['Gender'].isna().sum()"
   ]
  },
  {
   "cell_type": "markdown",
   "id": "fb52061d",
   "metadata": {},
   "source": [
    "## age column"
   ]
  },
  {
   "cell_type": "code",
   "execution_count": 44,
   "id": "02d278dc",
   "metadata": {},
   "outputs": [
    {
     "data": {
      "text/plain": [
       "array([   30,    79,    43,     2,    20,    37,    40,    71,    58,\n",
       "          45,    51,   120,    38,    81,    69,    31,    70,    34,\n",
       "           1,    41,    47,    36,    46,    48,    39,    63,    42,\n",
       "          27,    64,    50,    53,    33,    23,    32,    59,    60,\n",
       "          52,    54,    44,    11,    78,    28,    29,    57,    12,\n",
       "          65,    35,    73,    56,    55,    26,    49,    18,    14,\n",
       "          62,    25,    61,    72,    82,    67,     7,    10,    68,\n",
       "          21,    76,    24,    66,     3,    93,    22,    77,    19,\n",
       "          80,     9,     6,   -76,    -2,    89,    74,    75,    84,\n",
       "          16,    90,   140,     8,     5,    13,    86,    15,   320,\n",
       "         -12,    83,    85, -6099, -5939,     4,   -22,   144,   112,\n",
       "          17,     0,    88,   -27,    87,   133,   102,   -51,   128,\n",
       "         -26,   100], dtype=int64)"
      ]
     },
     "execution_count": 44,
     "metadata": {},
     "output_type": "execute_result"
    }
   ],
   "source": [
    "df['Age'].unique()"
   ]
  },
  {
   "cell_type": "markdown",
   "id": "1e0183fa",
   "metadata": {},
   "source": [
    "## dealing with outliers in age"
   ]
  },
  {
   "cell_type": "code",
   "execution_count": 45,
   "id": "ba07221b",
   "metadata": {},
   "outputs": [
    {
     "name": "stdout",
     "output_type": "stream",
     "text": [
      "Values not within the age of (12.5, 72.5) are outliers\n"
     ]
    }
   ],
   "source": [
    "Q1=np.percentile(df['Age'],25)\n",
    "Q2=np.percentile(df['Age'],50)\n",
    "Q3=np.percentile(df['Age'],75)\n",
    "#formula\n",
    "IQR=Q3-Q1\n",
    "low_lim=Q1-1.5*IQR\n",
    "upper_lim=Q3+1.5*IQR\n",
    "print(f'Values not within the age of {low_lim,upper_lim} are outliers')"
   ]
  },
  {
   "cell_type": "markdown",
   "id": "b65f680d",
   "metadata": {},
   "source": [
    "## replacing outliers with the median"
   ]
  },
  {
   "cell_type": "code",
   "execution_count": 46,
   "id": "a1a887f8",
   "metadata": {},
   "outputs": [],
   "source": [
    "def age(x):\n",
    "    if x<=12.5 or x>=72.5:\n",
    "        return Q2\n",
    "    else:\n",
    "        return x"
   ]
  },
  {
   "cell_type": "code",
   "execution_count": 47,
   "id": "845272a0",
   "metadata": {},
   "outputs": [],
   "source": [
    "df['Age']=df['Age'].apply(age)"
   ]
  },
  {
   "cell_type": "code",
   "execution_count": 48,
   "id": "7dc833db",
   "metadata": {},
   "outputs": [
    {
     "data": {
      "text/plain": [
       "array([30., 41., 43., 20., 37., 40., 71., 58., 45., 51., 38., 69., 31.,\n",
       "       70., 34., 47., 36., 46., 48., 39., 63., 42., 27., 64., 50., 53.,\n",
       "       33., 23., 32., 59., 60., 52., 54., 44., 28., 29., 57., 65., 35.,\n",
       "       56., 55., 26., 49., 18., 14., 62., 25., 61., 72., 67., 68., 21.,\n",
       "       24., 66., 22., 19., 16., 13., 15., 17.])"
      ]
     },
     "execution_count": 48,
     "metadata": {},
     "output_type": "execute_result"
    }
   ],
   "source": [
    "df['Age'].unique()"
   ]
  },
  {
   "cell_type": "markdown",
   "id": "704a2632",
   "metadata": {},
   "source": [
    "## cleaning car colour"
   ]
  },
  {
   "cell_type": "code",
   "execution_count": 49,
   "id": "364286bc",
   "metadata": {},
   "outputs": [
    {
     "data": {
      "text/plain": [
       "Car_Category  Subject_Car_Colour  Subject_Car_Make  LGA_Name       \n",
       "JEEP          Black               TOYOTA            Victoria Island    51\n",
       "Saloon        Black               TOYOTA            Victoria Island    48\n",
       "JEEP          As Attached         TOYOTA            Victoria Island    48\n",
       "Saloon        Black               TOYOTA            Ikeja              40\n",
       "JEEP          Black               Lexus             Victoria Island    27\n",
       "Saloon        Black               TOYOTA            Lagos Mainland     25\n",
       "                                                    Abuja Municipal    24\n",
       "JEEP          Black               TOYOTA            Eti-Osa            24\n",
       "                                  Mercedes          Victoria Island    23\n",
       "Saloon        Grey                TOYOTA            Victoria Island    22\n",
       "              Black               TOYOTA            Surulere           21\n",
       "JEEP          Black               Hyundai           Victoria Island    20\n",
       "                                  Honda             Victoria Island    19\n",
       "Saloon        Black               TOYOTA            Lekki              18\n",
       "                                                    Lagos Island       16\n",
       "JEEP          Black               TOYOTA            Surulere           16\n",
       "Saloon        Silver              TOYOTA            Ikeja              15\n",
       "              Grey                TOYOTA            Ikeja              14\n",
       "              Black               Honda             Abuja Municipal    13\n",
       "              Silver              TOYOTA            Victoria Island    12\n",
       "dtype: int64"
      ]
     },
     "execution_count": 49,
     "metadata": {},
     "output_type": "execute_result"
    }
   ],
   "source": [
    "df[['Car_Category','Subject_Car_Colour','Subject_Car_Make','LGA_Name']].value_counts().head(20)"
   ]
  },
  {
   "cell_type": "code",
   "execution_count": 50,
   "id": "b880f56f",
   "metadata": {},
   "outputs": [],
   "source": [
    "def category(dataframe):\n",
    "    Car_Category=dataframe['Car_Category']\n",
    "    Subject_Car_Colour=dataframe['Subject_Car_Colour']\n",
    "    Subject_Car_Make=dataframe['Subject_Car_Make']\n",
    "    LGA=dataframe['LGA_Name']\n",
    "    for i in dataframe.index:\n",
    "        if pd.isnull(Subject_Car_Colour[i]) and Car_Category[i]=='JEEP' and Subject_Car_Make[i] == 'TOYOTA' and LGA[i]=='Victoria Island':\n",
    "            Subject_Car_Colour[i] = 'Black'\n",
    "        elif pd.isnull(Subject_Car_Colour[i]) and Car_Category[i]=='JEEP' and Subject_Car_Make[i]=='TOYOTA' and LGA[i]=='Victoria Island':\n",
    "            Subject_Car_Colour[i] = 'As Attached' \n",
    "        elif pd.isnull(Subject_Car_Colour[i]) and Car_Category[i]=='Saloon' and Subject_Car_Make[i]=='TOYOTA' and LGA[i]=='Ikeja':\n",
    "            Subject_Car_Colour[i] = 'Black'\n",
    "        elif pd.isnull(Subject_Car_Colour[i]) and Car_Category[i]=='JEEP' and Subject_Car_Make[i]=='Lexus' and LGA[i]=='Victoria Island':\n",
    "            Subject_Car_Colour[i] = 'Black'\n",
    "        elif pd.isnull(Subject_Car_Colour[i]) and Car_Category[i]=='Saloon' and Subject_Car_Make[i]=='TOYOTA' and LGA[i]=='Lagos Mainland':\n",
    "            Subject_Car_Colour[i] = 'Grey'\n",
    "        elif pd.isnull(Subject_Car_Colour[i]) and Car_Category[i]=='Saloon' and Subject_Car_Make[i]=='TOYOTA' and LGA[i]=='Ikeja':\n",
    "            Subject_Car_Colour[i] = 'Silver'\n",
    "        elif pd.isnull(Subject_Car_Colour[i]) and Car_Category[i]=='Saloon' and Subject_Car_Make[i]=='TOYOTA' and LGA[i]=='Ikeja':\n",
    "            Subject_Car_Colour[i] = 'Grey'\n",
    "            \n",
    "        else:\n",
    "            Subject_Car_Colour[i]=Subject_Car_Colour[i]"
   ]
  },
  {
   "cell_type": "code",
   "execution_count": 51,
   "id": "45ca4a0f",
   "metadata": {},
   "outputs": [],
   "source": [
    "df=df[['ID', 'Policy Start Date', 'Policy End Date', 'Gender', 'Age',\n",
    "       'First Transaction Date', 'No_Pol', 'Car_Category',\n",
    "       'Subject_Car_Colour', 'Subject_Car_Make', 'LGA_Name', 'State',\n",
    "       'ProductName', 'target']]\n",
    "category(df)"
   ]
  },
  {
   "cell_type": "code",
   "execution_count": 52,
   "id": "5a685644",
   "metadata": {},
   "outputs": [
    {
     "data": {
      "text/plain": [
       "7493"
      ]
     },
     "execution_count": 52,
     "metadata": {},
     "output_type": "execute_result"
    }
   ],
   "source": [
    "df['Subject_Car_Colour'].isnull().sum()"
   ]
  },
  {
   "cell_type": "code",
   "execution_count": 53,
   "id": "9b937c68",
   "metadata": {},
   "outputs": [],
   "source": [
    "def category(dataframe):\n",
    "    Subject_Car_Colour=dataframe['Subject_Car_Colour']\n",
    "    Product=dataframe['ProductName']\n",
    "    for i in dataframe.index:\n",
    "        if pd.isnull(Subject_Car_Colour[i])  and  Product[i]=='Car Classic':\n",
    "            Subject_Car_Colour[i] = 'Black'\n",
    "        elif pd.isnull(Subject_Car_Colour[i])  and  Product[i]=='Customized Motor':\n",
    "            Subject_Car_Colour[i] = 'Black'\n",
    "        elif pd.isnull(Subject_Car_Colour[i])  and  Product[i]=='Car Plus':\n",
    "            Subject_Car_Colour[i] = 'Black'\n",
    "        elif pd.isnull(Subject_Car_Colour[i])  and  Product[i]=='CVTP':\n",
    "            Subject_Car_Colour[i] = 'White'\n",
    "        elif pd.isnull(Subject_Car_Colour[i])  and  Product[i]=='CVTP':\n",
    "            Subject_Car_Colour[i] = 'CarSafe'\n",
    "        elif pd.isnull(Subject_Car_Colour[i])  and  Product[i]=='Muuve':\n",
    "            Subject_Car_Colour[i] = 'As Attached'\n",
    "        elif pd.isnull(Subject_Car_Colour[i])  and  Product[i]=='CarFlex':\n",
    "            Subject_Car_Colour[i] = 'As Attached'\n",
    "        elif pd.isnull(Subject_Car_Colour[i])  and  Product[i]=='Motor Cycle':\n",
    "            Subject_Car_Colour[i] = 'Black'\n",
    "        elif pd.isnull(Subject_Car_Colour[i])  and  Product[i]=='Car Vintage':\n",
    "            Subject_Car_Colour[i] = 'Black'\n",
    "        elif pd.isnull(Subject_Car_Colour[i])  and  Product[i]=='CarSafe':\n",
    "            Subject_Car_Colour[i] = 'Black'\n",
    "        else:\n",
    "            Subject_Car_Colour[i] = Subject_Car_Colour[i]"
   ]
  },
  {
   "cell_type": "code",
   "execution_count": 54,
   "id": "a3d68f19",
   "metadata": {},
   "outputs": [],
   "source": [
    "df=df[['ID', 'Policy Start Date', 'Policy End Date', 'Gender', 'Age',\n",
    "       'First Transaction Date', 'No_Pol', 'Car_Category',\n",
    "       'Subject_Car_Colour', 'Subject_Car_Make', 'LGA_Name', 'State',\n",
    "       'ProductName', 'target']]\n",
    "category(df)"
   ]
  },
  {
   "cell_type": "code",
   "execution_count": 55,
   "id": "ab1399da",
   "metadata": {},
   "outputs": [
    {
     "data": {
      "text/plain": [
       "0"
      ]
     },
     "execution_count": 55,
     "metadata": {},
     "output_type": "execute_result"
    }
   ],
   "source": [
    "df['Subject_Car_Colour'].isnull().sum()"
   ]
  },
  {
   "cell_type": "markdown",
   "id": "f58a808a",
   "metadata": {},
   "source": [
    "## filling null Subject CarMake with the mode"
   ]
  },
  {
   "cell_type": "code",
   "execution_count": 56,
   "id": "e3540ff1",
   "metadata": {},
   "outputs": [
    {
     "data": {
      "text/plain": [
       "TOYOTA      5466\n",
       "Honda       1146\n",
       "Lexus        654\n",
       "Mercedes     577\n",
       "Hyundai      512\n",
       "Name: Subject_Car_Make, dtype: int64"
      ]
     },
     "execution_count": 56,
     "metadata": {},
     "output_type": "execute_result"
    }
   ],
   "source": [
    "df['Subject_Car_Make'].value_counts().head(5)"
   ]
  },
  {
   "cell_type": "code",
   "execution_count": 57,
   "id": "6419252d",
   "metadata": {},
   "outputs": [],
   "source": [
    "df['Subject_Car_Make']=df['Subject_Car_Make'].fillna('TOYOTA')"
   ]
  },
  {
   "cell_type": "markdown",
   "id": "f25f6e9a",
   "metadata": {},
   "source": [
    "## filling LGA name with the mode"
   ]
  },
  {
   "cell_type": "code",
   "execution_count": 58,
   "id": "1aa187e5",
   "metadata": {},
   "outputs": [
    {
     "data": {
      "text/plain": [
       "Victoria Island    1284\n",
       "Ikeja               438\n",
       "Surulere            306\n",
       "Abuja Municipal     257\n",
       "Lagos Mainland      245\n",
       "Name: LGA_Name, dtype: int64"
      ]
     },
     "execution_count": 58,
     "metadata": {},
     "output_type": "execute_result"
    }
   ],
   "source": [
    "df['LGA_Name'].value_counts().head()"
   ]
  },
  {
   "cell_type": "code",
   "execution_count": 59,
   "id": "e3a5bee8",
   "metadata": {},
   "outputs": [],
   "source": [
    "df['LGA_Name']=df['LGA_Name'].fillna('Victoria Island')"
   ]
  },
  {
   "cell_type": "markdown",
   "id": "9b5384a9",
   "metadata": {},
   "source": [
    "## filling null state column with the mode"
   ]
  },
  {
   "cell_type": "code",
   "execution_count": 60,
   "id": "a3aa6441",
   "metadata": {},
   "outputs": [],
   "source": [
    "#state column\n",
    "df['State']=df['State'].fillna('Lagos')"
   ]
  },
  {
   "cell_type": "code",
   "execution_count": 61,
   "id": "f9c09728",
   "metadata": {},
   "outputs": [
    {
     "name": "stdout",
     "output_type": "stream",
     "text": [
      "<class 'pandas.core.frame.DataFrame'>\n",
      "RangeIndex: 13281 entries, 0 to 13280\n",
      "Data columns (total 14 columns):\n",
      " #   Column                  Non-Null Count  Dtype  \n",
      "---  ------                  --------------  -----  \n",
      " 0   ID                      13281 non-null  object \n",
      " 1   Policy Start Date       13281 non-null  object \n",
      " 2   Policy End Date         13281 non-null  object \n",
      " 3   Gender                  13281 non-null  object \n",
      " 4   Age                     13281 non-null  float64\n",
      " 5   First Transaction Date  13281 non-null  object \n",
      " 6   No_Pol                  13281 non-null  int64  \n",
      " 7   Car_Category            13281 non-null  object \n",
      " 8   Subject_Car_Colour      13281 non-null  object \n",
      " 9   Subject_Car_Make        13281 non-null  object \n",
      " 10  LGA_Name                13281 non-null  object \n",
      " 11  State                   13281 non-null  object \n",
      " 12  ProductName             13281 non-null  object \n",
      " 13  target                  12079 non-null  float64\n",
      "dtypes: float64(2), int64(1), object(11)\n",
      "memory usage: 1.4+ MB\n"
     ]
    }
   ],
   "source": [
    "df.info()"
   ]
  },
  {
   "cell_type": "markdown",
   "id": "0e3e34ab",
   "metadata": {},
   "source": [
    "## Change each column to its appriopriate datatype"
   ]
  },
  {
   "cell_type": "code",
   "execution_count": 62,
   "id": "271b08bc",
   "metadata": {},
   "outputs": [
    {
     "name": "stdout",
     "output_type": "stream",
     "text": [
      "<class 'pandas.core.frame.DataFrame'>\n",
      "RangeIndex: 13281 entries, 0 to 13280\n",
      "Data columns (total 14 columns):\n",
      " #   Column                  Non-Null Count  Dtype         \n",
      "---  ------                  --------------  -----         \n",
      " 0   ID                      13281 non-null  object        \n",
      " 1   Policy Start Date       13281 non-null  datetime64[ns]\n",
      " 2   Policy End Date         13281 non-null  datetime64[ns]\n",
      " 3   Gender                  13281 non-null  category      \n",
      " 4   Age                     13281 non-null  float64       \n",
      " 5   First Transaction Date  13281 non-null  datetime64[ns]\n",
      " 6   No_Pol                  13281 non-null  int64         \n",
      " 7   Car_Category            13281 non-null  category      \n",
      " 8   Subject_Car_Colour      13281 non-null  category      \n",
      " 9   Subject_Car_Make        13281 non-null  category      \n",
      " 10  LGA_Name                13281 non-null  category      \n",
      " 11  State                   13281 non-null  category      \n",
      " 12  ProductName             13281 non-null  category      \n",
      " 13  target                  12079 non-null  float64       \n",
      "dtypes: category(7), datetime64[ns](3), float64(2), int64(1), object(1)\n",
      "memory usage: 850.6+ KB\n"
     ]
    }
   ],
   "source": [
    "\n",
    "date_cols = [col for col in df.columns if 'Date' in col]\n",
    "num_cols = ['Age', 'No_Pol']\n",
    "cat_cols = [col for col in df.columns if col not in date_cols+num_cols+['ID', 'target']]\n",
    "\n",
    "for col in df.columns:\n",
    "  if col in date_cols:\n",
    "    df[col] = pd.to_datetime(df[col])\n",
    "  elif col in cat_cols:\n",
    "    df[col] = df[col].astype('category')\n",
    "\n",
    "# Confirm whether the changes have been applied successfully\n",
    "df.info()"
   ]
  },
  {
   "cell_type": "markdown",
   "id": "39022fef",
   "metadata": {},
   "source": [
    "## feature engineering date time columns"
   ]
  },
  {
   "cell_type": "code",
   "execution_count": 63,
   "id": "ea1c1f1c",
   "metadata": {},
   "outputs": [],
   "source": [
    "df['Policy_Start']=df['Policy Start Date'].dt.year\n",
    "df['Policy_Start_Month']=df['Policy Start Date'].dt.month\n",
    "df['Policy_Start_Day']=df['Policy Start Date'].dt.day"
   ]
  },
  {
   "cell_type": "code",
   "execution_count": 64,
   "id": "29933e01",
   "metadata": {},
   "outputs": [],
   "source": [
    "df['Policy_End_Year']=df['Policy End Date'].dt.year\n",
    "df['Policy_End_Month']=df['Policy End Date'].dt.month\n",
    "df['Policy_End_Day']=df['Policy End Date'].dt.day\n"
   ]
  },
  {
   "cell_type": "code",
   "execution_count": 65,
   "id": "0f6b292b",
   "metadata": {},
   "outputs": [],
   "source": [
    "df.drop(['Policy Start Date','Policy End Date','First Transaction Date',],axis=1,inplace=True)"
   ]
  },
  {
   "cell_type": "markdown",
   "id": "181368c8",
   "metadata": {},
   "source": [
    "## developing the machine learning algorithm"
   ]
  },
  {
   "cell_type": "markdown",
   "id": "d4247204",
   "metadata": {},
   "source": [
    "## converting categorical variables to numeric"
   ]
  },
  {
   "cell_type": "code",
   "execution_count": 66,
   "id": "2233e9e8",
   "metadata": {},
   "outputs": [],
   "source": [
    "df=pd.get_dummies(df.drop('ID',axis=1),drop_first=True)"
   ]
  },
  {
   "cell_type": "markdown",
   "id": "7779254f",
   "metadata": {},
   "source": [
    "## Separate train and test data from the combined dataframe"
   ]
  },
  {
   "cell_type": "code",
   "execution_count": 67,
   "id": "c22eae19",
   "metadata": {},
   "outputs": [],
   "source": [
    "train_df = df[:ntrain]\n",
    "test_df = df[ntrain:]"
   ]
  },
  {
   "cell_type": "markdown",
   "id": "9d980c23",
   "metadata": {},
   "source": [
    "## Check the shapes of the split dataset"
   ]
  },
  {
   "cell_type": "code",
   "execution_count": 68,
   "id": "ff33d6e9",
   "metadata": {},
   "outputs": [
    {
     "data": {
      "text/plain": [
       "((12079, 535), (1202, 535))"
      ]
     },
     "execution_count": 68,
     "metadata": {},
     "output_type": "execute_result"
    }
   ],
   "source": [
    "train_df.shape, test_df.shape"
   ]
  },
  {
   "cell_type": "code",
   "execution_count": 69,
   "id": "e84e6ec9",
   "metadata": {},
   "outputs": [],
   "source": [
    "from sklearn.model_selection import train_test_split"
   ]
  },
  {
   "cell_type": "code",
   "execution_count": 70,
   "id": "2c1dd760",
   "metadata": {},
   "outputs": [],
   "source": [
    "X=train_df.drop(['target'],axis=1)\n",
    "y=train_df['target'].astype('int')\n",
    "X_train, X_test, y_train, y_test = train_test_split(X, y, test_size=0.3, random_state=101)"
   ]
  },
  {
   "cell_type": "code",
   "execution_count": 71,
   "id": "52e32d95",
   "metadata": {},
   "outputs": [],
   "source": [
    "from sklearn.ensemble import RandomForestClassifier"
   ]
  },
  {
   "cell_type": "code",
   "execution_count": 72,
   "id": "4987f13a",
   "metadata": {},
   "outputs": [],
   "source": [
    "rfc = RandomForestClassifier(n_estimators=200)"
   ]
  },
  {
   "cell_type": "code",
   "execution_count": 73,
   "id": "b1247ccc",
   "metadata": {},
   "outputs": [
    {
     "data": {
      "text/plain": [
       "RandomForestClassifier(n_estimators=200)"
      ]
     },
     "execution_count": 73,
     "metadata": {},
     "output_type": "execute_result"
    }
   ],
   "source": [
    "rfc.fit(X_train,y_train)"
   ]
  },
  {
   "cell_type": "code",
   "execution_count": 74,
   "id": "22357b67",
   "metadata": {},
   "outputs": [],
   "source": [
    "rfc.pred = rfc.predict(X_test)"
   ]
  },
  {
   "cell_type": "code",
   "execution_count": 75,
   "id": "9089b3c8",
   "metadata": {},
   "outputs": [],
   "source": [
    "from sklearn.metrics import confusion_matrix,classification_report"
   ]
  },
  {
   "cell_type": "code",
   "execution_count": 76,
   "id": "a5059260",
   "metadata": {},
   "outputs": [
    {
     "name": "stdout",
     "output_type": "stream",
     "text": [
      "[[3045  145]\n",
      " [ 359   75]]\n",
      "----------------------------------------------------------------------------------------------------\n",
      "              precision    recall  f1-score   support\n",
      "\n",
      "           0       0.89      0.95      0.92      3190\n",
      "           1       0.34      0.17      0.23       434\n",
      "\n",
      "    accuracy                           0.86      3624\n",
      "   macro avg       0.62      0.56      0.58      3624\n",
      "weighted avg       0.83      0.86      0.84      3624\n",
      "\n"
     ]
    }
   ],
   "source": [
    "print(confusion_matrix(y_test,rfc.pred))\n",
    "print('--'*50)\n",
    "print(classification_report(y_test,rfc.pred))"
   ]
  },
  {
   "cell_type": "markdown",
   "id": "0e62d086",
   "metadata": {},
   "source": [
    "## Balancing the target variables"
   ]
  },
  {
   "cell_type": "code",
   "execution_count": 77,
   "id": "ae4e9ab7",
   "metadata": {},
   "outputs": [],
   "source": [
    "from sklearn.utils import resample"
   ]
  },
  {
   "cell_type": "markdown",
   "id": "628b755b",
   "metadata": {},
   "source": [
    "## Separate majority and minority classes"
   ]
  },
  {
   "cell_type": "code",
   "execution_count": 78,
   "id": "3d3401f0",
   "metadata": {},
   "outputs": [],
   "source": [
    "train_majority = train_df[train_df['target']==0.0]\n",
    "train_minority = train_df[train_df['target']==1.0]"
   ]
  },
  {
   "cell_type": "markdown",
   "id": "1e86c8a1",
   "metadata": {},
   "source": [
    "## Upsample minority class\n",
    "## sample with replacement to match majority class"
   ]
  },
  {
   "cell_type": "code",
   "execution_count": 79,
   "id": "f1dcffd3",
   "metadata": {},
   "outputs": [],
   "source": [
    "train_minority_upsampled = resample(train_minority, replace=True,n_samples=10624,random_state=123)"
   ]
  },
  {
   "cell_type": "markdown",
   "id": "a9fb57da",
   "metadata": {},
   "source": [
    "## Combine majority class with upsampled minority class"
   ]
  },
  {
   "cell_type": "code",
   "execution_count": 80,
   "id": "5298f0df",
   "metadata": {},
   "outputs": [],
   "source": [
    "train_upsampled = pd.concat([train_majority,train_minority_upsampled])"
   ]
  },
  {
   "cell_type": "markdown",
   "id": "9b5f4c01",
   "metadata": {},
   "source": [
    "## performing the algorithm again"
   ]
  },
  {
   "cell_type": "code",
   "execution_count": 81,
   "id": "3b925c32",
   "metadata": {},
   "outputs": [],
   "source": [
    "rfc = RandomForestClassifier(n_estimators=200)"
   ]
  },
  {
   "cell_type": "code",
   "execution_count": 82,
   "id": "ebffacfe",
   "metadata": {},
   "outputs": [],
   "source": [
    "X=train_upsampled.drop(['target'],axis=1)\n",
    "y=train_upsampled['target'].astype('int')\n",
    "X_train, X_test, y_train, y_test = train_test_split(X, y, test_size=0.3)"
   ]
  },
  {
   "cell_type": "code",
   "execution_count": 83,
   "id": "db4aecc3",
   "metadata": {},
   "outputs": [
    {
     "data": {
      "text/plain": [
       "RandomForestClassifier(n_estimators=200)"
      ]
     },
     "execution_count": 83,
     "metadata": {},
     "output_type": "execute_result"
    }
   ],
   "source": [
    "rfc.fit(X_train,y_train)"
   ]
  },
  {
   "cell_type": "code",
   "execution_count": 84,
   "id": "d2026c81",
   "metadata": {},
   "outputs": [],
   "source": [
    "rfc.pred = rfc.predict(X_test)"
   ]
  },
  {
   "cell_type": "code",
   "execution_count": 85,
   "id": "8070ef86",
   "metadata": {},
   "outputs": [
    {
     "name": "stdout",
     "output_type": "stream",
     "text": [
      "[[2841  348]\n",
      " [  36 3150]]\n",
      "----------------------------------------------------------------------------------------------------\n",
      "              precision    recall  f1-score   support\n",
      "\n",
      "           0       0.99      0.89      0.94      3189\n",
      "           1       0.90      0.99      0.94      3186\n",
      "\n",
      "    accuracy                           0.94      6375\n",
      "   macro avg       0.94      0.94      0.94      6375\n",
      "weighted avg       0.94      0.94      0.94      6375\n",
      "\n"
     ]
    }
   ],
   "source": [
    "print(confusion_matrix(y_test,rfc.pred))\n",
    "print('--'*50)\n",
    "print(classification_report(y_test,rfc.pred))"
   ]
  },
  {
   "cell_type": "markdown",
   "id": "a0bbcca4",
   "metadata": {},
   "source": [
    "## model on test data"
   ]
  },
  {
   "cell_type": "code",
   "execution_count": 86,
   "id": "b970c570",
   "metadata": {},
   "outputs": [],
   "source": [
    "X_test=test_df.drop(['target'],axis=1)\n",
    "target=rfc.predict(X_test)\n",
    "test['target']=target\n",
    "ID=test['ID']\n",
    "test1=test[['ID','target']]\n"
   ]
  },
  {
   "cell_type": "code",
   "execution_count": 87,
   "id": "4e838481",
   "metadata": {},
   "outputs": [
    {
     "data": {
      "text/plain": [
       "0    1108\n",
       "1      94\n",
       "Name: target, dtype: int64"
      ]
     },
     "execution_count": 87,
     "metadata": {},
     "output_type": "execute_result"
    }
   ],
   "source": [
    "test['target'].value_counts()"
   ]
  },
  {
   "cell_type": "markdown",
   "id": "59659599",
   "metadata": {},
   "source": [
    "## using decision trees"
   ]
  },
  {
   "cell_type": "code",
   "execution_count": 88,
   "id": "42dbef13",
   "metadata": {},
   "outputs": [],
   "source": [
    "X=train_upsampled.drop(['target'],axis=1)\n",
    "y=train_upsampled['target'].astype('int')\n",
    "X_train, X_test, y_train, y_test = train_test_split(X, y, test_size=0.3)"
   ]
  },
  {
   "cell_type": "code",
   "execution_count": 89,
   "id": "41aacb6d",
   "metadata": {},
   "outputs": [
    {
     "name": "stdout",
     "output_type": "stream",
     "text": [
      "[[2638  545]\n",
      " [  16 3176]]\n",
      "----------------------------------------------------------------------------------------------------\n",
      "              precision    recall  f1-score   support\n",
      "\n",
      "           0       0.99      0.83      0.90      3183\n",
      "           1       0.85      0.99      0.92      3192\n",
      "\n",
      "    accuracy                           0.91      6375\n",
      "   macro avg       0.92      0.91      0.91      6375\n",
      "weighted avg       0.92      0.91      0.91      6375\n",
      "\n"
     ]
    }
   ],
   "source": [
    "from sklearn.tree import DecisionTreeClassifier\n",
    "dtree= DecisionTreeClassifier()\n",
    "dtree.fit(X_train,y_train)\n",
    "predictions = dtree.predict(X_test)\n",
    "print(confusion_matrix(y_test,predictions))\n",
    "print('--'*50)\n",
    "print(classification_report(y_test,predictions))"
   ]
  },
  {
   "cell_type": "markdown",
   "id": "4b3409b0",
   "metadata": {},
   "source": [
    "## model on test data"
   ]
  },
  {
   "cell_type": "code",
   "execution_count": 90,
   "id": "5c1da523",
   "metadata": {},
   "outputs": [
    {
     "data": {
      "text/plain": [
       "0    1022\n",
       "1     180\n",
       "Name: target, dtype: int64"
      ]
     },
     "execution_count": 90,
     "metadata": {},
     "output_type": "execute_result"
    }
   ],
   "source": [
    "X_test=test_df.drop(['target'],axis=1)\n",
    "target=dtree.predict(X_test)\n",
    "test['target']=target\n",
    "ID=test['ID']\n",
    "test1=test[['ID','target']]\n",
    "test['target'].value_counts()"
   ]
  },
  {
   "cell_type": "code",
   "execution_count": null,
   "id": "2f1cc8de",
   "metadata": {},
   "outputs": [],
   "source": []
  }
 ],
 "metadata": {
  "kernelspec": {
   "display_name": "Python 3 (ipykernel)",
   "language": "python",
   "name": "python3"
  },
  "language_info": {
   "codemirror_mode": {
    "name": "ipython",
    "version": 3
   },
   "file_extension": ".py",
   "mimetype": "text/x-python",
   "name": "python",
   "nbconvert_exporter": "python",
   "pygments_lexer": "ipython3",
   "version": "3.9.7"
  }
 },
 "nbformat": 4,
 "nbformat_minor": 5
}
